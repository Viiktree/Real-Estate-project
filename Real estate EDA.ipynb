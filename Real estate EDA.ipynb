{
 "cells": [
  {
   "cell_type": "markdown",
   "id": "80146bb3",
   "metadata": {},
   "source": [
    "## NPC Real Estate EDA\n",
    "### By Victory Okechukwu"
   ]
  },
  {
   "cell_type": "markdown",
   "id": "e1f42ae8",
   "metadata": {},
   "source": [
    "### Introduction"
   ]
  },
  {
   "cell_type": "code",
   "execution_count": 1,
   "id": "23311565",
   "metadata": {},
   "outputs": [],
   "source": [
    "# Import the necessary libraries\n",
    "import numpy as np\n",
    "import pandas as pd\n",
    "import seaborn as sb\n",
    "import matplotlib.pyplot as plt\n",
    "%matplotlib inline "
   ]
  },
  {
   "cell_type": "code",
   "execution_count": 2,
   "id": "bff93e2c",
   "metadata": {},
   "outputs": [],
   "source": [
    "# Loading the dataset\n",
    "df = pd.read_csv('Real_estate_clean.csv')"
   ]
  },
  {
   "cell_type": "code",
   "execution_count": 3,
   "id": "52373033",
   "metadata": {},
   "outputs": [
    {
     "data": {
      "text/html": [
       "<div>\n",
       "<style scoped>\n",
       "    .dataframe tbody tr th:only-of-type {\n",
       "        vertical-align: middle;\n",
       "    }\n",
       "\n",
       "    .dataframe tbody tr th {\n",
       "        vertical-align: top;\n",
       "    }\n",
       "\n",
       "    .dataframe thead th {\n",
       "        text-align: right;\n",
       "    }\n",
       "</style>\n",
       "<table border=\"1\" class=\"dataframe\">\n",
       "  <thead>\n",
       "    <tr style=\"text-align: right;\">\n",
       "      <th></th>\n",
       "      <th>Date</th>\n",
       "      <th>Price</th>\n",
       "      <th>Location</th>\n",
       "      <th>Bedroom</th>\n",
       "      <th>PropertyType</th>\n",
       "    </tr>\n",
       "  </thead>\n",
       "  <tbody>\n",
       "    <tr>\n",
       "      <th>0</th>\n",
       "      <td>2021-08-21</td>\n",
       "      <td>42500000</td>\n",
       "      <td>Kaura</td>\n",
       "      <td>4</td>\n",
       "      <td>terraced duplex</td>\n",
       "    </tr>\n",
       "    <tr>\n",
       "      <th>1</th>\n",
       "      <td>2022-05-01</td>\n",
       "      <td>400000000</td>\n",
       "      <td>Apo</td>\n",
       "      <td>6</td>\n",
       "      <td>house</td>\n",
       "    </tr>\n",
       "    <tr>\n",
       "      <th>2</th>\n",
       "      <td>2022-10-02</td>\n",
       "      <td>56000000</td>\n",
       "      <td>Gwarinpa</td>\n",
       "      <td>3</td>\n",
       "      <td>terraced duplex</td>\n",
       "    </tr>\n",
       "    <tr>\n",
       "      <th>3</th>\n",
       "      <td>2022-10-02</td>\n",
       "      <td>75000000</td>\n",
       "      <td>Asokoro District</td>\n",
       "      <td>3</td>\n",
       "      <td>house</td>\n",
       "    </tr>\n",
       "    <tr>\n",
       "      <th>4</th>\n",
       "      <td>2022-08-08</td>\n",
       "      <td>75000000</td>\n",
       "      <td>Gwarinpa</td>\n",
       "      <td>4</td>\n",
       "      <td>semi-detached duplex</td>\n",
       "    </tr>\n",
       "  </tbody>\n",
       "</table>\n",
       "</div>"
      ],
      "text/plain": [
       "         Date      Price          Location  Bedroom          PropertyType\n",
       "0  2021-08-21   42500000             Kaura        4       terraced duplex\n",
       "1  2022-05-01  400000000               Apo        6                 house\n",
       "2  2022-10-02   56000000          Gwarinpa        3       terraced duplex\n",
       "3  2022-10-02   75000000  Asokoro District        3                 house\n",
       "4  2022-08-08   75000000          Gwarinpa        4  semi-detached duplex"
      ]
     },
     "execution_count": 3,
     "metadata": {},
     "output_type": "execute_result"
    }
   ],
   "source": [
    "df.head()"
   ]
  },
  {
   "cell_type": "markdown",
   "id": "a7ddfd7e",
   "metadata": {},
   "source": [
    "### Preliminary cleaning"
   ]
  },
  {
   "cell_type": "code",
   "execution_count": 4,
   "id": "61539cb6",
   "metadata": {},
   "outputs": [
    {
     "data": {
      "text/html": [
       "<div>\n",
       "<style scoped>\n",
       "    .dataframe tbody tr th:only-of-type {\n",
       "        vertical-align: middle;\n",
       "    }\n",
       "\n",
       "    .dataframe tbody tr th {\n",
       "        vertical-align: top;\n",
       "    }\n",
       "\n",
       "    .dataframe thead th {\n",
       "        text-align: right;\n",
       "    }\n",
       "</style>\n",
       "<table border=\"1\" class=\"dataframe\">\n",
       "  <thead>\n",
       "    <tr style=\"text-align: right;\">\n",
       "      <th></th>\n",
       "      <th>Date</th>\n",
       "      <th>Price</th>\n",
       "      <th>Location</th>\n",
       "      <th>Bedroom</th>\n",
       "      <th>PropertyType</th>\n",
       "    </tr>\n",
       "  </thead>\n",
       "  <tbody>\n",
       "    <tr>\n",
       "      <th>0</th>\n",
       "      <td>2021-08-21</td>\n",
       "      <td>42500000</td>\n",
       "      <td>Kaura</td>\n",
       "      <td>4</td>\n",
       "      <td>terraced duplex</td>\n",
       "    </tr>\n",
       "    <tr>\n",
       "      <th>1</th>\n",
       "      <td>2022-05-01</td>\n",
       "      <td>400000000</td>\n",
       "      <td>Apo</td>\n",
       "      <td>6</td>\n",
       "      <td>house</td>\n",
       "    </tr>\n",
       "    <tr>\n",
       "      <th>2</th>\n",
       "      <td>2022-10-02</td>\n",
       "      <td>56000000</td>\n",
       "      <td>Gwarinpa</td>\n",
       "      <td>3</td>\n",
       "      <td>terraced duplex</td>\n",
       "    </tr>\n",
       "    <tr>\n",
       "      <th>3</th>\n",
       "      <td>2022-10-02</td>\n",
       "      <td>75000000</td>\n",
       "      <td>Asokoro District</td>\n",
       "      <td>3</td>\n",
       "      <td>house</td>\n",
       "    </tr>\n",
       "    <tr>\n",
       "      <th>4</th>\n",
       "      <td>2022-08-08</td>\n",
       "      <td>75000000</td>\n",
       "      <td>Gwarinpa</td>\n",
       "      <td>4</td>\n",
       "      <td>semi-detached duplex</td>\n",
       "    </tr>\n",
       "  </tbody>\n",
       "</table>\n",
       "</div>"
      ],
      "text/plain": [
       "         Date      Price          Location  Bedroom          PropertyType\n",
       "0  2021-08-21   42500000             Kaura        4       terraced duplex\n",
       "1  2022-05-01  400000000               Apo        6                 house\n",
       "2  2022-10-02   56000000          Gwarinpa        3       terraced duplex\n",
       "3  2022-10-02   75000000  Asokoro District        3                 house\n",
       "4  2022-08-08   75000000          Gwarinpa        4  semi-detached duplex"
      ]
     },
     "execution_count": 4,
     "metadata": {},
     "output_type": "execute_result"
    }
   ],
   "source": [
    "df = df.drop(index=4163)\n",
    "df = df.drop(index=df[df['Price'] > 4e+9].index)\n",
    "df.head()"
   ]
  },
  {
   "cell_type": "code",
   "execution_count": 5,
   "id": "eb151868",
   "metadata": {},
   "outputs": [],
   "source": [
    "df = df.drop(index=df[((df['Location'] == 'Katampe')| (df['Location'] == 'Jabi'))  & (df['Price'] > 1e+9)].index)\n",
    "df = df.drop(index=df[(df['PropertyType'] == 'block of flats')].index).reset_index(drop=True)"
   ]
  },
  {
   "cell_type": "code",
   "execution_count": 6,
   "id": "d5620656",
   "metadata": {},
   "outputs": [
    {
     "data": {
      "text/html": [
       "<div>\n",
       "<style scoped>\n",
       "    .dataframe tbody tr th:only-of-type {\n",
       "        vertical-align: middle;\n",
       "    }\n",
       "\n",
       "    .dataframe tbody tr th {\n",
       "        vertical-align: top;\n",
       "    }\n",
       "\n",
       "    .dataframe thead th {\n",
       "        text-align: right;\n",
       "    }\n",
       "</style>\n",
       "<table border=\"1\" class=\"dataframe\">\n",
       "  <thead>\n",
       "    <tr style=\"text-align: right;\">\n",
       "      <th></th>\n",
       "      <th>Date</th>\n",
       "      <th>Price</th>\n",
       "      <th>Location</th>\n",
       "      <th>Bedroom</th>\n",
       "      <th>PropertyType</th>\n",
       "    </tr>\n",
       "  </thead>\n",
       "  <tbody>\n",
       "    <tr>\n",
       "      <th>0</th>\n",
       "      <td>2021-08-21</td>\n",
       "      <td>42500000</td>\n",
       "      <td>Kaura</td>\n",
       "      <td>4</td>\n",
       "      <td>terraced duplex</td>\n",
       "    </tr>\n",
       "    <tr>\n",
       "      <th>1</th>\n",
       "      <td>2022-05-01</td>\n",
       "      <td>400000000</td>\n",
       "      <td>Apo</td>\n",
       "      <td>6</td>\n",
       "      <td>house</td>\n",
       "    </tr>\n",
       "    <tr>\n",
       "      <th>2</th>\n",
       "      <td>2022-10-02</td>\n",
       "      <td>56000000</td>\n",
       "      <td>Gwarinpa</td>\n",
       "      <td>3</td>\n",
       "      <td>terraced duplex</td>\n",
       "    </tr>\n",
       "    <tr>\n",
       "      <th>3</th>\n",
       "      <td>2022-10-02</td>\n",
       "      <td>75000000</td>\n",
       "      <td>Asokoro District</td>\n",
       "      <td>3</td>\n",
       "      <td>house</td>\n",
       "    </tr>\n",
       "    <tr>\n",
       "      <th>4</th>\n",
       "      <td>2022-08-08</td>\n",
       "      <td>75000000</td>\n",
       "      <td>Gwarinpa</td>\n",
       "      <td>4</td>\n",
       "      <td>semi-detached duplex</td>\n",
       "    </tr>\n",
       "  </tbody>\n",
       "</table>\n",
       "</div>"
      ],
      "text/plain": [
       "         Date      Price          Location  Bedroom          PropertyType\n",
       "0  2021-08-21   42500000             Kaura        4       terraced duplex\n",
       "1  2022-05-01  400000000               Apo        6                 house\n",
       "2  2022-10-02   56000000          Gwarinpa        3       terraced duplex\n",
       "3  2022-10-02   75000000  Asokoro District        3                 house\n",
       "4  2022-08-08   75000000          Gwarinpa        4  semi-detached duplex"
      ]
     },
     "execution_count": 6,
     "metadata": {},
     "output_type": "execute_result"
    }
   ],
   "source": [
    "locations = df['Location'].value_counts().to_frame()[df['Location']\n",
    "            .value_counts().to_frame()['Location'] > 10].index.values.tolist()\n",
    "df = df[df['Location'].isin(locations)]\n",
    "df.head()"
   ]
  },
  {
   "cell_type": "code",
   "execution_count": 7,
   "id": "f275b7a4",
   "metadata": {},
   "outputs": [
    {
     "data": {
      "text/plain": [
       "(46, 5)"
      ]
     },
     "execution_count": 7,
     "metadata": {},
     "output_type": "execute_result"
    }
   ],
   "source": [
    "df[df.duplicated()].shape"
   ]
  },
  {
   "cell_type": "code",
   "execution_count": 8,
   "id": "e32f5158",
   "metadata": {},
   "outputs": [],
   "source": [
    "df = df.drop_duplicates(ignore_index=True)"
   ]
  },
  {
   "cell_type": "code",
   "execution_count": 9,
   "id": "c854411a",
   "metadata": {},
   "outputs": [
    {
     "data": {
      "text/plain": [
       "(0, 5)"
      ]
     },
     "execution_count": 9,
     "metadata": {},
     "output_type": "execute_result"
    }
   ],
   "source": [
    "df[df.duplicated()].shape"
   ]
  },
  {
   "cell_type": "markdown",
   "id": "eda0217c",
   "metadata": {},
   "source": [
    "### Univariate Exploration"
   ]
  },
  {
   "cell_type": "code",
   "execution_count": 10,
   "id": "6ea4607e",
   "metadata": {},
   "outputs": [
    {
     "data": {
      "text/plain": [
       "count    4.449000e+03\n",
       "mean     2.520512e+08\n",
       "std      3.691434e+08\n",
       "min      6.000000e+06\n",
       "25%      7.500000e+07\n",
       "50%      1.250000e+08\n",
       "75%      2.500000e+08\n",
       "max      4.000000e+09\n",
       "Name: Price, dtype: float64"
      ]
     },
     "execution_count": 10,
     "metadata": {},
     "output_type": "execute_result"
    }
   ],
   "source": [
    "df['Price'].describe()"
   ]
  },
  {
   "cell_type": "code",
   "execution_count": 11,
   "id": "de875c28",
   "metadata": {},
   "outputs": [
    {
     "data": {
      "image/png": "[encoded data removed]",
      "text/plain": [
       "<Figure size 432x288 with 1 Axes>"
      ]
     },
     "metadata": {
      "needs_background": "light"
     },
     "output_type": "display_data"
    }
   ],
   "source": [
    "bins = np.arange(1.95e+6,2e+10,1e+7)\n",
    "plt.hist(data=df, x='Price',bins=bins)\n",
    "plt.xscale('log');"
   ]
  },
  {
   "cell_type": "code",
   "execution_count": 12,
   "id": "39f8e3c5",
   "metadata": {},
   "outputs": [
    {
     "data": {
      "image/png": "[encoded data removed]",
      "text/plain": [
       "<Figure size 504x360 with 1 Axes>"
      ]
     },
     "metadata": {
      "needs_background": "light"
     },
     "output_type": "display_data"
    }
   ],
   "source": [
    "base_color = sb.color_palette()[0]\n",
    "plt.figure(figsize=[7,5])\n",
    "sb.countplot(data=df, x='Bedroom',color=base_color);"
   ]
  },
  {
   "cell_type": "code",
   "execution_count": 13,
   "id": "a28b1090",
   "metadata": {},
   "outputs": [],
   "source": [
    "def ploty(x):\n",
    "    df[x].value_counts().head(10).plot(kind='barh')\n",
    "    plt.title('Count of {}'.format(x))\n",
    "    plt.xlabel('Count')\n",
    "    plt.ylabel(x)\n",
    "    plt.gca().invert_yaxis()"
   ]
  },
  {
   "cell_type": "code",
   "execution_count": 14,
   "id": "ce44893c",
   "metadata": {},
   "outputs": [
    {
     "data": {
      "image/png": "[encoded data removed]",
      "text/plain": [
       "<Figure size 504x720 with 2 Axes>"
      ]
     },
     "metadata": {
      "needs_background": "light"
     },
     "output_type": "display_data"
    }
   ],
   "source": [
    "plt.figure(figsize=[7,10])\n",
    "plt.subplot(2,1,1)\n",
    "ploty(x='Location')\n",
    "plt.subplot(2,1,2)\n",
    "ploty(x='PropertyType')"
   ]
  },
  {
   "cell_type": "markdown",
   "id": "8a3de07b",
   "metadata": {},
   "source": [
    "### Bivariate Exploration"
   ]
  },
  {
   "cell_type": "code",
   "execution_count": 15,
   "id": "5c8d657a",
   "metadata": {
    "scrolled": true
   },
   "outputs": [
    {
     "data": {
      "text/html": [
       "<div>\n",
       "<style scoped>\n",
       "    .dataframe tbody tr th:only-of-type {\n",
       "        vertical-align: middle;\n",
       "    }\n",
       "\n",
       "    .dataframe tbody tr th {\n",
       "        vertical-align: top;\n",
       "    }\n",
       "\n",
       "    .dataframe thead th {\n",
       "        text-align: right;\n",
       "    }\n",
       "</style>\n",
       "<table border=\"1\" class=\"dataframe\">\n",
       "  <thead>\n",
       "    <tr style=\"text-align: right;\">\n",
       "      <th></th>\n",
       "      <th>Date</th>\n",
       "      <th>Price</th>\n",
       "      <th>Location</th>\n",
       "      <th>Bedroom</th>\n",
       "      <th>PropertyType</th>\n",
       "    </tr>\n",
       "  </thead>\n",
       "  <tbody>\n",
       "    <tr>\n",
       "      <th>0</th>\n",
       "      <td>2021-08-21</td>\n",
       "      <td>42500000</td>\n",
       "      <td>Kaura</td>\n",
       "      <td>4</td>\n",
       "      <td>terraced duplex</td>\n",
       "    </tr>\n",
       "    <tr>\n",
       "      <th>1</th>\n",
       "      <td>2022-05-01</td>\n",
       "      <td>400000000</td>\n",
       "      <td>Apo</td>\n",
       "      <td>6</td>\n",
       "      <td>house</td>\n",
       "    </tr>\n",
       "    <tr>\n",
       "      <th>2</th>\n",
       "      <td>2022-10-02</td>\n",
       "      <td>56000000</td>\n",
       "      <td>Gwarinpa</td>\n",
       "      <td>3</td>\n",
       "      <td>terraced duplex</td>\n",
       "    </tr>\n",
       "    <tr>\n",
       "      <th>3</th>\n",
       "      <td>2022-10-02</td>\n",
       "      <td>75000000</td>\n",
       "      <td>Asokoro District</td>\n",
       "      <td>3</td>\n",
       "      <td>house</td>\n",
       "    </tr>\n",
       "    <tr>\n",
       "      <th>4</th>\n",
       "      <td>2022-08-08</td>\n",
       "      <td>75000000</td>\n",
       "      <td>Gwarinpa</td>\n",
       "      <td>4</td>\n",
       "      <td>semi-detached duplex</td>\n",
       "    </tr>\n",
       "  </tbody>\n",
       "</table>\n",
       "</div>"
      ],
      "text/plain": [
       "         Date      Price          Location  Bedroom          PropertyType\n",
       "0  2021-08-21   42500000             Kaura        4       terraced duplex\n",
       "1  2022-05-01  400000000               Apo        6                 house\n",
       "2  2022-10-02   56000000          Gwarinpa        3       terraced duplex\n",
       "3  2022-10-02   75000000  Asokoro District        3                 house\n",
       "4  2022-08-08   75000000          Gwarinpa        4  semi-detached duplex"
      ]
     },
     "execution_count": 15,
     "metadata": {},
     "output_type": "execute_result"
    }
   ],
   "source": [
    "df.head()"
   ]
  },
  {
   "cell_type": "code",
   "execution_count": 16,
   "id": "75bf8a66",
   "metadata": {},
   "outputs": [
    {
     "data": {
      "text/plain": [
       "Location\n",
       "Maitama District    8.977358e+08\n",
       "Asokoro District    6.946371e+08\n",
       "Wuse 2              4.173296e+08\n",
       "Utako               3.543182e+08\n",
       "Guzape District     3.223803e+08\n",
       "Katampe             2.974602e+08\n",
       "Jabi                2.422901e+08\n",
       "Gudu                2.313600e+08\n",
       "Wuse                2.278846e+08\n",
       "Mabushi             2.035280e+08\n",
       "Name: Price, dtype: float64"
      ]
     },
     "execution_count": 16,
     "metadata": {},
     "output_type": "execute_result"
    }
   ],
   "source": [
    "df.groupby('Location').mean().sort_values('Price',ascending=False).head(10)['Price']"
   ]
  },
  {
   "cell_type": "code",
   "execution_count": 17,
   "id": "ebb47dce",
   "metadata": {},
   "outputs": [
    {
     "data": {
      "image/png": "[encoded data removed]",
      "text/plain": [
       "<Figure size 576x360 with 1 Axes>"
      ]
     },
     "metadata": {
      "needs_background": "light"
     },
     "output_type": "display_data"
    }
   ],
   "source": [
    "plt.figure(figsize=[8,5])\n",
    "df.groupby('Location').mean().sort_values('Price',ascending=False).head(10)['Price'].plot(kind='barh')\n",
    "plt.gca().invert_yaxis()"
   ]
  },
  {
   "cell_type": "code",
   "execution_count": 18,
   "id": "c9900d8b",
   "metadata": {},
   "outputs": [
    {
     "data": {
      "text/html": [
       "<div>\n",
       "<style scoped>\n",
       "    .dataframe tbody tr th:only-of-type {\n",
       "        vertical-align: middle;\n",
       "    }\n",
       "\n",
       "    .dataframe tbody tr th {\n",
       "        vertical-align: top;\n",
       "    }\n",
       "\n",
       "    .dataframe thead th {\n",
       "        text-align: right;\n",
       "    }\n",
       "</style>\n",
       "<table border=\"1\" class=\"dataframe\">\n",
       "  <thead>\n",
       "    <tr style=\"text-align: right;\">\n",
       "      <th></th>\n",
       "      <th></th>\n",
       "      <th>Price</th>\n",
       "      <th>Bedroom</th>\n",
       "    </tr>\n",
       "    <tr>\n",
       "      <th>Location</th>\n",
       "      <th>PropertyType</th>\n",
       "      <th></th>\n",
       "      <th></th>\n",
       "    </tr>\n",
       "  </thead>\n",
       "  <tbody>\n",
       "    <tr>\n",
       "      <th rowspan=\"2\" valign=\"top\">Maitama District</th>\n",
       "      <th>detached duplex</th>\n",
       "      <td>1.121865e+09</td>\n",
       "      <td>6.880952</td>\n",
       "    </tr>\n",
       "    <tr>\n",
       "      <th>house</th>\n",
       "      <td>1.031000e+09</td>\n",
       "      <td>6.695652</td>\n",
       "    </tr>\n",
       "    <tr>\n",
       "      <th rowspan=\"2\" valign=\"top\">Asokoro District</th>\n",
       "      <th>detached duplex</th>\n",
       "      <td>8.239928e+08</td>\n",
       "      <td>6.141509</td>\n",
       "    </tr>\n",
       "    <tr>\n",
       "      <th>house</th>\n",
       "      <td>7.888812e+08</td>\n",
       "      <td>5.853659</td>\n",
       "    </tr>\n",
       "    <tr>\n",
       "      <th>Katampe</th>\n",
       "      <th>detached bungalow</th>\n",
       "      <td>7.250000e+08</td>\n",
       "      <td>6.000000</td>\n",
       "    </tr>\n",
       "    <tr>\n",
       "      <th>...</th>\n",
       "      <th>...</th>\n",
       "      <td>...</td>\n",
       "      <td>...</td>\n",
       "    </tr>\n",
       "    <tr>\n",
       "      <th rowspan=\"2\" valign=\"top\">Kuje</th>\n",
       "      <th>detached bungalow</th>\n",
       "      <td>1.633333e+07</td>\n",
       "      <td>2.666667</td>\n",
       "    </tr>\n",
       "    <tr>\n",
       "      <th>house</th>\n",
       "      <td>1.300000e+07</td>\n",
       "      <td>3.000000</td>\n",
       "    </tr>\n",
       "    <tr>\n",
       "      <th>Guzape District</th>\n",
       "      <th>detached bungalow</th>\n",
       "      <td>1.175000e+07</td>\n",
       "      <td>2.000000</td>\n",
       "    </tr>\n",
       "    <tr>\n",
       "      <th rowspan=\"2\" valign=\"top\">Kuje</th>\n",
       "      <th>terraced bungalow</th>\n",
       "      <td>1.100000e+07</td>\n",
       "      <td>2.000000</td>\n",
       "    </tr>\n",
       "    <tr>\n",
       "      <th>semi-detached bungalow</th>\n",
       "      <td>9.600000e+06</td>\n",
       "      <td>2.000000</td>\n",
       "    </tr>\n",
       "  </tbody>\n",
       "</table>\n",
       "<p>173 rows × 2 columns</p>\n",
       "</div>"
      ],
      "text/plain": [
       "                                                Price   Bedroom\n",
       "Location         PropertyType                                  \n",
       "Maitama District detached duplex         1.121865e+09  6.880952\n",
       "                 house                   1.031000e+09  6.695652\n",
       "Asokoro District detached duplex         8.239928e+08  6.141509\n",
       "                 house                   7.888812e+08  5.853659\n",
       "Katampe          detached bungalow       7.250000e+08  6.000000\n",
       "...                                               ...       ...\n",
       "Kuje             detached bungalow       1.633333e+07  2.666667\n",
       "                 house                   1.300000e+07  3.000000\n",
       "Guzape District  detached bungalow       1.175000e+07  2.000000\n",
       "Kuje             terraced bungalow       1.100000e+07  2.000000\n",
       "                 semi-detached bungalow  9.600000e+06  2.000000\n",
       "\n",
       "[173 rows x 2 columns]"
      ]
     },
     "execution_count": 18,
     "metadata": {},
     "output_type": "execute_result"
    }
   ],
   "source": [
    "df.groupby(['Location','PropertyType']).mean().sort_values('Price',ascending=False)"
   ]
  },
  {
   "cell_type": "code",
   "execution_count": null,
   "id": "3ef5da74",
   "metadata": {},
   "outputs": [],
   "source": []
  },
  {
   "cell_type": "markdown",
   "id": "4f4a30f6",
   "metadata": {},
   "source": [
    "### Multivariate Exploration"
   ]
  }
 ],
 "metadata": {
  "kernelspec": {
   "display_name": "Python 3 (ipykernel)",
   "language": "python",
   "name": "python3"
  },
  "language_info": {
   "codemirror_mode": {
    "name": "ipython",
    "version": 3
   },
   "file_extension": ".py",
   "mimetype": "text/x-python",
   "name": "python",
   "nbconvert_exporter": "python",
   "pygments_lexer": "ipython3",
   "version": "3.9.7"
  }
 },
 "nbformat": 4,
 "nbformat_minor": 5
}
