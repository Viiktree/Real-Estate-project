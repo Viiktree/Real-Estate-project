{
 "cells": [
  {
   "cell_type": "markdown",
   "id": "80146bb3",
   "metadata": {},
   "source": [
    "## NPC Real Estate EDA\n",
    "### By Victory Okechukwu"
   ]
  },
  {
   "cell_type": "markdown",
   "id": "e1f42ae8",
   "metadata": {},
   "source": [
    "### Introduction"
   ]
  },
  {
   "cell_type": "code",
   "execution_count": 1,
   "id": "23311565",
   "metadata": {},
   "outputs": [],
   "source": [
    "# Import the necessary libraries\n",
    "import numpy as np\n",
    "import pandas as pd\n",
    "import seaborn as sb\n",
    "import matplotlib.pyplot as plt\n",
    "%matplotlib inline "
   ]
  },
  {
   "cell_type": "code",
   "execution_count": 2,
   "id": "bff93e2c",
   "metadata": {},
   "outputs": [],
   "source": [
    "# Loading the dataset\n",
    "df = pd.read_csv('Real_estate_clean.csv')"
   ]
  },
  {
   "cell_type": "code",
   "execution_count": 3,
   "id": "52373033",
   "metadata": {},
   "outputs": [
    {
     "data": {
      "text/html": [
       "<div>\n",
       "<style scoped>\n",
       "    .dataframe tbody tr th:only-of-type {\n",
       "        vertical-align: middle;\n",
       "    }\n",
       "\n",
       "    .dataframe tbody tr th {\n",
       "        vertical-align: top;\n",
       "    }\n",
       "\n",
       "    .dataframe thead th {\n",
       "        text-align: right;\n",
       "    }\n",
       "</style>\n",
       "<table border=\"1\" class=\"dataframe\">\n",
       "  <thead>\n",
       "    <tr style=\"text-align: right;\">\n",
       "      <th></th>\n",
       "      <th>Date</th>\n",
       "      <th>Price</th>\n",
       "      <th>Location</th>\n",
       "      <th>Bedroom</th>\n",
       "      <th>PropertyType</th>\n",
       "    </tr>\n",
       "  </thead>\n",
       "  <tbody>\n",
       "    <tr>\n",
       "      <th>0</th>\n",
       "      <td>2021-08-21</td>\n",
       "      <td>42500000</td>\n",
       "      <td>Kaura</td>\n",
       "      <td>4</td>\n",
       "      <td>terraced duplex</td>\n",
       "    </tr>\n",
       "    <tr>\n",
       "      <th>1</th>\n",
       "      <td>2022-05-01</td>\n",
       "      <td>400000000</td>\n",
       "      <td>Apo</td>\n",
       "      <td>6</td>\n",
       "      <td>house</td>\n",
       "    </tr>\n",
       "    <tr>\n",
       "      <th>2</th>\n",
       "      <td>2022-10-02</td>\n",
       "      <td>56000000</td>\n",
       "      <td>Gwarinpa</td>\n",
       "      <td>3</td>\n",
       "      <td>terraced duplex</td>\n",
       "    </tr>\n",
       "    <tr>\n",
       "      <th>3</th>\n",
       "      <td>2022-10-02</td>\n",
       "      <td>75000000</td>\n",
       "      <td>Asokoro District</td>\n",
       "      <td>3</td>\n",
       "      <td>house</td>\n",
       "    </tr>\n",
       "    <tr>\n",
       "      <th>4</th>\n",
       "      <td>2022-08-08</td>\n",
       "      <td>75000000</td>\n",
       "      <td>Gwarinpa</td>\n",
       "      <td>4</td>\n",
       "      <td>semi-detached duplex</td>\n",
       "    </tr>\n",
       "  </tbody>\n",
       "</table>\n",
       "</div>"
      ],
      "text/plain": [
       "         Date      Price          Location  Bedroom          PropertyType\n",
       "0  2021-08-21   42500000             Kaura        4       terraced duplex\n",
       "1  2022-05-01  400000000               Apo        6                 house\n",
       "2  2022-10-02   56000000          Gwarinpa        3       terraced duplex\n",
       "3  2022-10-02   75000000  Asokoro District        3                 house\n",
       "4  2022-08-08   75000000          Gwarinpa        4  semi-detached duplex"
      ]
     },
     "execution_count": 3,
     "metadata": {},
     "output_type": "execute_result"
    }
   ],
   "source": [
    "df.head()"
   ]
  },
  {
   "cell_type": "markdown",
   "id": "a7ddfd7e",
   "metadata": {},
   "source": [
    "### Preliminary cleaning"
   ]
  },
  {
   "cell_type": "code",
   "execution_count": 4,
   "id": "61539cb6",
   "metadata": {},
   "outputs": [
    {
     "data": {
      "text/html": [
       "<div>\n",
       "<style scoped>\n",
       "    .dataframe tbody tr th:only-of-type {\n",
       "        vertical-align: middle;\n",
       "    }\n",
       "\n",
       "    .dataframe tbody tr th {\n",
       "        vertical-align: top;\n",
       "    }\n",
       "\n",
       "    .dataframe thead th {\n",
       "        text-align: right;\n",
       "    }\n",
       "</style>\n",
       "<table border=\"1\" class=\"dataframe\">\n",
       "  <thead>\n",
       "    <tr style=\"text-align: right;\">\n",
       "      <th></th>\n",
       "      <th>Date</th>\n",
       "      <th>Price</th>\n",
       "      <th>Location</th>\n",
       "      <th>Bedroom</th>\n",
       "      <th>PropertyType</th>\n",
       "    </tr>\n",
       "  </thead>\n",
       "  <tbody>\n",
       "    <tr>\n",
       "      <th>0</th>\n",
       "      <td>2021-08-21</td>\n",
       "      <td>42500000</td>\n",
       "      <td>Kaura</td>\n",
       "      <td>4</td>\n",
       "      <td>terraced duplex</td>\n",
       "    </tr>\n",
       "    <tr>\n",
       "      <th>1</th>\n",
       "      <td>2022-05-01</td>\n",
       "      <td>400000000</td>\n",
       "      <td>Apo</td>\n",
       "      <td>6</td>\n",
       "      <td>house</td>\n",
       "    </tr>\n",
       "    <tr>\n",
       "      <th>2</th>\n",
       "      <td>2022-10-02</td>\n",
       "      <td>56000000</td>\n",
       "      <td>Gwarinpa</td>\n",
       "      <td>3</td>\n",
       "      <td>terraced duplex</td>\n",
       "    </tr>\n",
       "    <tr>\n",
       "      <th>3</th>\n",
       "      <td>2022-10-02</td>\n",
       "      <td>75000000</td>\n",
       "      <td>Asokoro District</td>\n",
       "      <td>3</td>\n",
       "      <td>house</td>\n",
       "    </tr>\n",
       "    <tr>\n",
       "      <th>4</th>\n",
       "      <td>2022-08-08</td>\n",
       "      <td>75000000</td>\n",
       "      <td>Gwarinpa</td>\n",
       "      <td>4</td>\n",
       "      <td>semi-detached duplex</td>\n",
       "    </tr>\n",
       "  </tbody>\n",
       "</table>\n",
       "</div>"
      ],
      "text/plain": [
       "         Date      Price          Location  Bedroom          PropertyType\n",
       "0  2021-08-21   42500000             Kaura        4       terraced duplex\n",
       "1  2022-05-01  400000000               Apo        6                 house\n",
       "2  2022-10-02   56000000          Gwarinpa        3       terraced duplex\n",
       "3  2022-10-02   75000000  Asokoro District        3                 house\n",
       "4  2022-08-08   75000000          Gwarinpa        4  semi-detached duplex"
      ]
     },
     "execution_count": 4,
     "metadata": {},
     "output_type": "execute_result"
    }
   ],
   "source": [
    "df = df.drop(index=4163).reset_index(drop=True)\n",
    "df = df.drop(index=df[df['Price'] > 4e+9].index).reset_index(drop=True)\n",
    "df.head()"
   ]
  },
  {
   "cell_type": "code",
   "execution_count": 5,
   "id": "d5620656",
   "metadata": {},
   "outputs": [
    {
     "data": {
      "text/html": [
       "<div>\n",
       "<style scoped>\n",
       "    .dataframe tbody tr th:only-of-type {\n",
       "        vertical-align: middle;\n",
       "    }\n",
       "\n",
       "    .dataframe tbody tr th {\n",
       "        vertical-align: top;\n",
       "    }\n",
       "\n",
       "    .dataframe thead th {\n",
       "        text-align: right;\n",
       "    }\n",
       "</style>\n",
       "<table border=\"1\" class=\"dataframe\">\n",
       "  <thead>\n",
       "    <tr style=\"text-align: right;\">\n",
       "      <th></th>\n",
       "      <th>Date</th>\n",
       "      <th>Price</th>\n",
       "      <th>Location</th>\n",
       "      <th>Bedroom</th>\n",
       "      <th>PropertyType</th>\n",
       "    </tr>\n",
       "  </thead>\n",
       "  <tbody>\n",
       "    <tr>\n",
       "      <th>0</th>\n",
       "      <td>2021-08-21</td>\n",
       "      <td>42500000</td>\n",
       "      <td>Kaura</td>\n",
       "      <td>4</td>\n",
       "      <td>terraced duplex</td>\n",
       "    </tr>\n",
       "    <tr>\n",
       "      <th>1</th>\n",
       "      <td>2022-05-01</td>\n",
       "      <td>400000000</td>\n",
       "      <td>Apo</td>\n",
       "      <td>6</td>\n",
       "      <td>house</td>\n",
       "    </tr>\n",
       "    <tr>\n",
       "      <th>2</th>\n",
       "      <td>2022-10-02</td>\n",
       "      <td>56000000</td>\n",
       "      <td>Gwarinpa</td>\n",
       "      <td>3</td>\n",
       "      <td>terraced duplex</td>\n",
       "    </tr>\n",
       "    <tr>\n",
       "      <th>3</th>\n",
       "      <td>2022-10-02</td>\n",
       "      <td>75000000</td>\n",
       "      <td>Asokoro District</td>\n",
       "      <td>3</td>\n",
       "      <td>house</td>\n",
       "    </tr>\n",
       "    <tr>\n",
       "      <th>4</th>\n",
       "      <td>2022-08-08</td>\n",
       "      <td>75000000</td>\n",
       "      <td>Gwarinpa</td>\n",
       "      <td>4</td>\n",
       "      <td>semi-detached duplex</td>\n",
       "    </tr>\n",
       "  </tbody>\n",
       "</table>\n",
       "</div>"
      ],
      "text/plain": [
       "         Date      Price          Location  Bedroom          PropertyType\n",
       "0  2021-08-21   42500000             Kaura        4       terraced duplex\n",
       "1  2022-05-01  400000000               Apo        6                 house\n",
       "2  2022-10-02   56000000          Gwarinpa        3       terraced duplex\n",
       "3  2022-10-02   75000000  Asokoro District        3                 house\n",
       "4  2022-08-08   75000000          Gwarinpa        4  semi-detached duplex"
      ]
     },
     "execution_count": 5,
     "metadata": {},
     "output_type": "execute_result"
    }
   ],
   "source": [
    "locations = df['Location'].value_counts().to_frame()[df['Location']\n",
    "            .value_counts().to_frame()['Location'] > 10].index.values.tolist()\n",
    "df = df[df['Location'].isin(locations)]\n",
    "df.head()"
   ]
  },
  {
   "cell_type": "markdown",
   "id": "eda0217c",
   "metadata": {},
   "source": [
    "### Univariate Exploration"
   ]
  },
  {
   "cell_type": "code",
   "execution_count": 6,
   "id": "6ea4607e",
   "metadata": {},
   "outputs": [
    {
     "data": {
      "text/plain": [
       "count    4.765000e+03\n",
       "mean     2.574137e+08\n",
       "std      3.893241e+08\n",
       "min      6.000000e+06\n",
       "25%      7.000000e+07\n",
       "50%      1.200000e+08\n",
       "75%      2.500000e+08\n",
       "max      4.000000e+09\n",
       "Name: Price, dtype: float64"
      ]
     },
     "execution_count": 6,
     "metadata": {},
     "output_type": "execute_result"
    }
   ],
   "source": [
    "df['Price'].describe()"
   ]
  },
  {
   "cell_type": "code",
   "execution_count": 7,
   "id": "de875c28",
   "metadata": {},
   "outputs": [
    {
     "data": {
      "image/png": "[encoded data removed]",
      "text/plain": [
       "<Figure size 432x288 with 1 Axes>"
      ]
     },
     "metadata": {
      "needs_background": "light"
     },
     "output_type": "display_data"
    }
   ],
   "source": [
    "bins = np.arange(1.95e+6,2e+10,1e+7)\n",
    "plt.hist(data=df, x='Price',bins=bins)\n",
    "plt.xscale('log');"
   ]
  },
  {
   "cell_type": "code",
   "execution_count": 8,
   "id": "39f8e3c5",
   "metadata": {},
   "outputs": [
    {
     "data": {
      "image/png": "[encoded data removed]",
      "text/plain": [
       "<Figure size 504x360 with 1 Axes>"
      ]
     },
     "metadata": {
      "needs_background": "light"
     },
     "output_type": "display_data"
    }
   ],
   "source": [
    "base_color = sb.color_palette()[0]\n",
    "plt.figure(figsize=[7,5])\n",
    "sb.countplot(data=df, x='Bedroom',color=base_color);"
   ]
  },
  {
   "cell_type": "code",
   "execution_count": 9,
   "id": "a28b1090",
   "metadata": {},
   "outputs": [],
   "source": [
    "def ploty(x):\n",
    "    df[x].value_counts().head(15).plot(kind='barh')\n",
    "    plt.title('Count of {}'.format(x))\n",
    "    plt.xlabel('Count')\n",
    "    plt.ylabel(x)\n",
    "    plt.gca().invert_yaxis()"
   ]
  },
  {
   "cell_type": "code",
   "execution_count": 10,
   "id": "ce44893c",
   "metadata": {},
   "outputs": [
    {
     "data": {
      "image/png": "[encoded data removed]",
      "text/plain": [
       "<Figure size 504x720 with 2 Axes>"
      ]
     },
     "metadata": {
      "needs_background": "light"
     },
     "output_type": "display_data"
    }
   ],
   "source": [
    "plt.figure(figsize=[7,10])\n",
    "plt.subplot(2,1,1)\n",
    "ploty(x='Location')\n",
    "plt.subplot(2,1,2)\n",
    "ploty(x='PropertyType')"
   ]
  },
  {
   "cell_type": "markdown",
   "id": "8a3de07b",
   "metadata": {},
   "source": [
    "### Bivariate Exploration"
   ]
  },
  {
   "cell_type": "code",
   "execution_count": 30,
   "id": "5c8d657a",
   "metadata": {
    "scrolled": true
   },
   "outputs": [
    {
     "data": {
      "text/html": [
       "<div>\n",
       "<style scoped>\n",
       "    .dataframe tbody tr th:only-of-type {\n",
       "        vertical-align: middle;\n",
       "    }\n",
       "\n",
       "    .dataframe tbody tr th {\n",
       "        vertical-align: top;\n",
       "    }\n",
       "\n",
       "    .dataframe thead th {\n",
       "        text-align: right;\n",
       "    }\n",
       "</style>\n",
       "<table border=\"1\" class=\"dataframe\">\n",
       "  <thead>\n",
       "    <tr style=\"text-align: right;\">\n",
       "      <th></th>\n",
       "      <th>Date</th>\n",
       "      <th>Price</th>\n",
       "      <th>Location</th>\n",
       "      <th>Bedroom</th>\n",
       "      <th>PropertyType</th>\n",
       "    </tr>\n",
       "  </thead>\n",
       "  <tbody>\n",
       "    <tr>\n",
       "      <th>0</th>\n",
       "      <td>2021-08-21</td>\n",
       "      <td>42500000</td>\n",
       "      <td>Kaura</td>\n",
       "      <td>4</td>\n",
       "      <td>terraced duplex</td>\n",
       "    </tr>\n",
       "    <tr>\n",
       "      <th>1</th>\n",
       "      <td>2022-05-01</td>\n",
       "      <td>400000000</td>\n",
       "      <td>Apo</td>\n",
       "      <td>6</td>\n",
       "      <td>house</td>\n",
       "    </tr>\n",
       "    <tr>\n",
       "      <th>2</th>\n",
       "      <td>2022-10-02</td>\n",
       "      <td>56000000</td>\n",
       "      <td>Gwarinpa</td>\n",
       "      <td>3</td>\n",
       "      <td>terraced duplex</td>\n",
       "    </tr>\n",
       "    <tr>\n",
       "      <th>3</th>\n",
       "      <td>2022-10-02</td>\n",
       "      <td>75000000</td>\n",
       "      <td>Asokoro District</td>\n",
       "      <td>3</td>\n",
       "      <td>house</td>\n",
       "    </tr>\n",
       "    <tr>\n",
       "      <th>4</th>\n",
       "      <td>2022-08-08</td>\n",
       "      <td>75000000</td>\n",
       "      <td>Gwarinpa</td>\n",
       "      <td>4</td>\n",
       "      <td>semi-detached duplex</td>\n",
       "    </tr>\n",
       "  </tbody>\n",
       "</table>\n",
       "</div>"
      ],
      "text/plain": [
       "         Date      Price          Location  Bedroom          PropertyType\n",
       "0  2021-08-21   42500000             Kaura        4       terraced duplex\n",
       "1  2022-05-01  400000000               Apo        6                 house\n",
       "2  2022-10-02   56000000          Gwarinpa        3       terraced duplex\n",
       "3  2022-10-02   75000000  Asokoro District        3                 house\n",
       "4  2022-08-08   75000000          Gwarinpa        4  semi-detached duplex"
      ]
     },
     "execution_count": 30,
     "metadata": {},
     "output_type": "execute_result"
    }
   ],
   "source": [
    "df.head()"
   ]
  },
  {
   "cell_type": "markdown",
   "id": "4f4a30f6",
   "metadata": {},
   "source": [
    "### Multivariate Exploration"
   ]
  }
 ],
 "metadata": {
  "kernelspec": {
   "display_name": "Python 3 (ipykernel)",
   "language": "python",
   "name": "python3"
  },
  "language_info": {
   "codemirror_mode": {
    "name": "ipython",
    "version": 3
   },
   "file_extension": ".py",
   "mimetype": "text/x-python",
   "name": "python",
   "nbconvert_exporter": "python",
   "pygments_lexer": "ipython3",
   "version": "3.9.7"
  }
 },
 "nbformat": 4,
 "nbformat_minor": 5
}
