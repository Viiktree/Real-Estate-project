{
 "cells": [
  {
   "cell_type": "markdown",
   "id": "90e66467",
   "metadata": {},
   "source": [
    "## Web Scrapping"
   ]
  },
  {
   "cell_type": "code",
   "execution_count": 1,
   "id": "6af09367",
   "metadata": {},
   "outputs": [],
   "source": [
    "import numpy as np\n",
    "import pandas as pd\n",
    "import seaborn as sb\n",
    "import matplotlib.pyplot as plt\n",
    "from bs4 import BeautifulSoup\n",
    "import requests"
   ]
  },
  {
   "cell_type": "code",
   "execution_count": 2,
   "id": "f09223dd",
   "metadata": {},
   "outputs": [],
   "source": [
    "url = \"https://nigeriapropertycentre.com/for-sale/houses/abuja/showtype?page=\"\n",
    "data = []\n",
    "for page in range(1,269):\n",
    "    req = requests.get(url + str(page))\n",
    "    soup = BeautifulSoup(req.content,'html.parser')\n",
    "    lists = soup.find_all('div', class_= \"wp-block property list\")\n",
    "    for list in lists:\n",
    "        title = list.find('h4', class_= \"content-title\").text\n",
    "        date = list.find('span', class_= \"added-on\").text.replace('Added','').replace('on','')\n",
    "        price = list.find('span', class_= \"pull-sm-left\").text.replace('\\n','')\n",
    "        address = list.find('address', class_= \"voffset-bottom-10\").text.replace('\\xa0','')\n",
    "        data.append([title,date,price,address])\n",
    "df = pd.DataFrame(data,columns=(['Title','Date','Price','Address']))"
   ]
  },
  {
   "cell_type": "code",
   "execution_count": 3,
   "id": "f61dbfe4",
   "metadata": {},
   "outputs": [],
   "source": [
    "df.to_csv('NPC_data.csv',index=False)"
   ]
  }
 ],
 "metadata": {
  "kernelspec": {
   "display_name": "Python 3 (ipykernel)",
   "language": "python",
   "name": "python3"
  },
  "language_info": {
   "codemirror_mode": {
    "name": "ipython",
    "version": 3
   },
   "file_extension": ".py",
   "mimetype": "text/x-python",
   "name": "python",
   "nbconvert_exporter": "python",
   "pygments_lexer": "ipython3",
   "version": "3.9.7"
  }
 },
 "nbformat": 4,
 "nbformat_minor": 5
}
